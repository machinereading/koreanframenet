{
 "cells": [
  {
   "cell_type": "code",
   "execution_count": 35,
   "metadata": {},
   "outputs": [],
   "source": [
    "import json\n",
    "from collections import Counter\n",
    "from pprint import pprint\n",
    "import random"
   ]
  },
  {
   "cell_type": "code",
   "execution_count": 36,
   "metadata": {},
   "outputs": [],
   "source": [
    "with open('./resource/1.2/KFN_annotations.json','r') as f:\n",
    "    anno = json.load(f)"
   ]
  },
  {
   "cell_type": "code",
   "execution_count": 37,
   "metadata": {},
   "outputs": [
    {
     "name": "stdout",
     "output_type": "stream",
     "text": [
      "504724\n"
     ]
    }
   ],
   "source": [
    "with open('./data/1.2/training.tsv','r') as f:\n",
    "    trn = f.readlines()\n",
    "    \n",
    "with open('./data/1.2/test.tsv','r') as f:\n",
    "    tst = f.readlines()\n",
    "    \n",
    "with open('./data/1.2/dev.tsv','r') as f:\n",
    "    dev = f.readlines()\n",
    "    \n",
    "d = trn + tst + dev\n",
    "\n",
    "print(len(d))"
   ]
  },
  {
   "cell_type": "code",
   "execution_count": 38,
   "metadata": {},
   "outputs": [],
   "source": [
    "def id2source(anno_id):\n",
    "    source = anno[anno_id]['source']\n",
    "    \n",
    "    return source"
   ]
  },
  {
   "cell_type": "code",
   "execution_count": 39,
   "metadata": {},
   "outputs": [
    {
     "name": "stdout",
     "output_type": "stream",
     "text": [
      "['#anno-id:0',\n",
      " '#source:en.FrameNet',\n",
      " '#text:태풍 Hugo가 남긴 피해들과 회사 내 몇몇 주요 부서들의 저조한 실적들을 반영하여, Aetna Life and '\n",
      " 'Casualty Co.의 3분기 순이익이 182.6 백만 달러 또는 주당 1.63 달러로 22 % 하락하였다.',\n",
      " '0\\t태풍\\t_\\t_\\tO',\n",
      " '1\\tHugo가\\t_\\t_\\tO',\n",
      " '2\\t남긴\\t_\\t_\\tO',\n",
      " '3\\t피해들과\\t_\\t_\\tO',\n",
      " '4\\t회사\\t_\\t_\\tO',\n",
      " '5\\t내\\t_\\t_\\tO',\n",
      " '6\\t몇몇\\t_\\t_\\tO',\n",
      " '7\\t주요\\t_\\t_\\tO',\n",
      " '8\\t부서들의\\t_\\t_\\tO',\n",
      " '9\\t저조한\\t_\\t_\\tO',\n",
      " '10\\t실적들을\\t_\\t_\\tO',\n",
      " '11\\t반영하여,\\t_\\t_\\tO',\n",
      " '12\\tAetna\\t_\\t_\\tB-Earner',\n",
      " '13\\tLife\\t_\\t_\\tI-Earner',\n",
      " '14\\tand\\t_\\t_\\tI-Earner',\n",
      " '15\\tCasualty\\t_\\t_\\tI-Earner',\n",
      " '16\\tCo.의\\t_\\t_\\tI-Earner',\n",
      " '17\\t3분기\\t_\\t_\\tB-Time',\n",
      " '18\\t순이익이\\t이익.n\\tEarnings_and_losses\\tO',\n",
      " '19\\t182.6\\t_\\t_\\tO',\n",
      " '20\\t백만\\t_\\t_\\tO',\n",
      " '21\\t달러\\t_\\t_\\tO',\n",
      " '22\\t또는\\t_\\t_\\tO',\n",
      " '23\\t주당\\t_\\t_\\tO',\n",
      " '24\\t1.63\\t_\\t_\\tO',\n",
      " '25\\t달러로\\t_\\t_\\tO',\n",
      " '26\\t22\\t_\\t_\\tO',\n",
      " '27\\t%\\t_\\t_\\tO',\n",
      " '28\\t하락하였다.\\t_\\t_\\tO']\n",
      "25483\n"
     ]
    }
   ],
   "source": [
    "def lines2tsv(lines):\n",
    "    tsv = {}\n",
    "    sent = []\n",
    "    for line in lines:\n",
    "        line = line.strip()\n",
    "#         if line.startswith('#'):\n",
    "        if line[:5] == '#anno':\n",
    "            anno_id = line.split(':')[-1]\n",
    "            sent.append(line)\n",
    "            source = id2source(anno_id)\n",
    "            source = '#source:'+source\n",
    "            sent.append(source)\n",
    "        else:\n",
    "            if line != '':\n",
    "#                 token = line.split('\\t')\n",
    "                sent.append(line)\n",
    "            else:\n",
    "                tsv[anno_id] = sent\n",
    "                sent = []\n",
    "    return tsv\n",
    "\n",
    "tsv = lines2tsv(d)\n",
    "pprint(tsv['0'])\n",
    "print(len(tsv))"
   ]
  },
  {
   "cell_type": "code",
   "execution_count": 40,
   "metadata": {},
   "outputs": [
    {
     "name": "stdout",
     "output_type": "stream",
     "text": [
      "14197\n",
      "3200\n",
      "5712\n",
      "2352\n",
      "['#anno-id:17437', '#source:propbank', '#text:극지방, 고산지대 등의 빙하와 빙산이 유례없이 빠른 속도로 녹고 있어 지구상에 큰 환경 및 기후 변화를 초래할 것이라고 환경감시기구인 월드워치 인스티튜트가 6 일 경고했다.', '0\\t극지방,\\t_\\t_\\tB-Cause', '1\\t고산지대\\t_\\t_\\tI-Cause', '2\\t등의\\t_\\t_\\tI-Cause', '3\\t빙하와\\t_\\t_\\tI-Cause', '4\\t빙산이\\t_\\t_\\tI-Cause', '5\\t유례없이\\t_\\t_\\tO', '6\\t빠른\\t_\\t_\\tO', '7\\t속도로\\t_\\t_\\tO', '8\\t녹고\\t_\\t_\\tO', '9\\t있어\\t_\\t_\\tO', '10\\t지구상에\\t_\\t_\\tB-Place', '11\\t큰\\t_\\t_\\tB-Effect', '12\\t환경\\t_\\t_\\tI-Effect', '13\\t및\\t_\\t_\\tI-Effect', '14\\t기후\\t_\\t_\\tI-Effect', '15\\t변화를\\t_\\t_\\tI-Effect', '16\\t초래할\\t초래하다.v\\tCause_to_start\\tO', '17\\t것이라고\\t_\\t_\\tO', '18\\t환경감시기구인\\t_\\t_\\tO', '19\\t월드워치\\t_\\t_\\tO', '20\\t인스티튜트가\\t_\\t_\\tO', '21\\t6\\t_\\t_\\tO', '22\\t일\\t_\\t_\\tO', '23\\t경고했다.\\t_\\t_\\tO']\n"
     ]
    }
   ],
   "source": [
    "ekfn = []\n",
    "jkfn = []\n",
    "skfn = []\n",
    "pkfn = []\n",
    "for anno_id in tsv:\n",
    "    source = id2source(anno_id)\n",
    "    item = tsv[anno_id]\n",
    "    \n",
    "    if source == 'en.FrameNet':\n",
    "        ekfn.append(item)\n",
    "    elif source == 'jp.FrameNet':\n",
    "        jkfn.append(item)\n",
    "    elif source == 'sejong':\n",
    "        skfn.append(item)\n",
    "    elif source == 'propbank':\n",
    "        pkfn.append(item)\n",
    "    else:\n",
    "        pass\n",
    "        \n",
    "print(len(ekfn))\n",
    "print(len(jkfn))\n",
    "print(len(skfn))\n",
    "print(len(pkfn))\n",
    "print(pkfn[0])"
   ]
  },
  {
   "cell_type": "code",
   "execution_count": 57,
   "metadata": {},
   "outputs": [
    {
     "name": "stdout",
     "output_type": "stream",
     "text": [
      "14197\n",
      "3550\n",
      "10647\n"
     ]
    }
   ],
   "source": [
    "# # for E-KFN\n",
    "# random.shuffle(ekfn)\n",
    "# print(len(ekfn))\n",
    "# print(len(ekfn[:3550]))\n",
    "# print(len(ekfn[3550:]))\n",
    "\n",
    "# ekfn_tst = ekfn[:3550]\n",
    "# ekfn_trn = ekfn[3550:]"
   ]
  },
  {
   "cell_type": "code",
   "execution_count": 41,
   "metadata": {},
   "outputs": [
    {
     "name": "stdout",
     "output_type": "stream",
     "text": [
      "3200\n",
      "2200\n",
      "1000\n"
     ]
    }
   ],
   "source": [
    "# for J-KFN\n",
    "random.shuffle(jkfn)\n",
    "print(len(jkfn))\n",
    "print(len(jkfn[:2200]))\n",
    "# print(len(jkfn[500:2200]))\n",
    "print(len(jkfn[2200:]))\n",
    "\n",
    "jkfn_trn = jkfn[:2200]\n",
    "jkfn_tst = jkfn[2200:]"
   ]
  },
  {
   "cell_type": "code",
   "execution_count": 55,
   "metadata": {},
   "outputs": [
    {
     "name": "stdout",
     "output_type": "stream",
     "text": [
      "5712\n",
      "500\n",
      "4212\n",
      "1000\n"
     ]
    }
   ],
   "source": [
    "# for S-KFN\n",
    "random.shuffle(skfn)\n",
    "print(len(skfn))\n",
    "print(len(skfn[:500]))\n",
    "print(len(skfn[500:4712]))\n",
    "print(len(skfn[4712:]))\n",
    "\n",
    "skfn_trn = skfn[:500]\n",
    "skfn_unlabel = skfn[500:4712]\n",
    "skfn_tst = skfn[4712:]"
   ]
  },
  {
   "cell_type": "code",
   "execution_count": 56,
   "metadata": {},
   "outputs": [
    {
     "name": "stdout",
     "output_type": "stream",
     "text": [
      "2352\n",
      "500\n",
      "852\n",
      "1000\n"
     ]
    }
   ],
   "source": [
    "# for P-KFN\n",
    "random.shuffle(pkfn)\n",
    "print(len(pkfn))\n",
    "print(len(pkfn[:500]))\n",
    "print(len(pkfn[500:1352]))\n",
    "print(len(pkfn[1352:]))\n",
    "\n",
    "pkfn_trn = pkfn[:500]\n",
    "pkfn_unlabel = pkfn[500:1352]\n",
    "pkfn_tst = pkfn[1352:]"
   ]
  },
  {
   "cell_type": "code",
   "execution_count": 57,
   "metadata": {},
   "outputs": [],
   "source": [
    "def write_file(tsv, fname):\n",
    "    with open(fname, 'w') as f:\n",
    "        for lines in tsv:\n",
    "            for line in lines:\n",
    "                l = line+'\\n'\n",
    "                \n",
    "                f.write(l)\n",
    "            f.write('\\n')\n",
    "    print('\\n', fname, 'is written')\n",
    "    print(len(tsv))"
   ]
  },
  {
   "cell_type": "code",
   "execution_count": 58,
   "metadata": {},
   "outputs": [],
   "source": [
    "tups = []\n",
    "# tup = (ekfn_trn, './data/split_by_source/ekfn_trn.tsv')\n",
    "# tups.append(tup)\n",
    "# tup = (ekfn_tst, './data/split_by_source/ekfn_tst.tsv')\n",
    "# tups.append(tup)\n",
    "tup = (jkfn_trn, './data/split_by_source/jkfn_trn.tsv')\n",
    "tups.append(tup)\n",
    "tup = (jkfn_tst, './data/split_by_source/jkfn_tst.tsv')\n",
    "tups.append(tup)\n",
    "\n",
    "tup = (skfn_trn, './data/split_by_source/skfn_trn.tsv')\n",
    "tups.append(tup)\n",
    "tup = (skfn_unlabel, './data/split_by_source/skfn_unlabel.tsv')\n",
    "tups.append(tup)\n",
    "tup = (skfn_tst, './data/split_by_source/skfn_tst.tsv')\n",
    "tups.append(tup)\n",
    "\n",
    "tup = (pkfn_trn, './data/split_by_source/pkfn_trn.tsv')\n",
    "tups.append(tup)\n",
    "tup = (pkfn_unlabel, './data/split_by_source/pkfn_unlabel.tsv')\n",
    "tups.append(tup)\n",
    "tup = (pkfn_tst, './data/split_by_source/pkfn_tst.tsv')\n",
    "tups.append(tup)"
   ]
  },
  {
   "cell_type": "code",
   "execution_count": 59,
   "metadata": {},
   "outputs": [
    {
     "name": "stdout",
     "output_type": "stream",
     "text": [
      "\n",
      " ./data/split_by_source/jkfn_trn.tsv is written\n",
      "2200\n",
      "\n",
      " ./data/split_by_source/jkfn_tst.tsv is written\n",
      "1000\n",
      "\n",
      " ./data/split_by_source/skfn_trn.tsv is written\n",
      "500\n",
      "\n",
      " ./data/split_by_source/skfn_unlabel.tsv is written\n",
      "4212\n",
      "\n",
      " ./data/split_by_source/skfn_tst.tsv is written\n",
      "1000\n",
      "\n",
      " ./data/split_by_source/pkfn_trn.tsv is written\n",
      "500\n",
      "\n",
      " ./data/split_by_source/pkfn_unlabel.tsv is written\n",
      "852\n",
      "\n",
      " ./data/split_by_source/pkfn_tst.tsv is written\n",
      "1000\n"
     ]
    }
   ],
   "source": [
    "for tsv, fname in tups:\n",
    "    write_file(tsv, fname)"
   ]
  }
 ],
 "metadata": {
  "kernelspec": {
   "display_name": "Python 3",
   "language": "python",
   "name": "python3"
  },
  "language_info": {
   "codemirror_mode": {
    "name": "ipython",
    "version": 3
   },
   "file_extension": ".py",
   "mimetype": "text/x-python",
   "name": "python",
   "nbconvert_exporter": "python",
   "pygments_lexer": "ipython3",
   "version": "3.6.5"
  }
 },
 "nbformat": 4,
 "nbformat_minor": 2
}
