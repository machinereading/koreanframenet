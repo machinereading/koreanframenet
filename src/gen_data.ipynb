{
 "cells": [
  {
   "cell_type": "code",
   "execution_count": 1,
   "metadata": {},
   "outputs": [],
   "source": [
    "import json"
   ]
  },
  {
   "cell_type": "code",
   "execution_count": 2,
   "metadata": {},
   "outputs": [],
   "source": [
    "version = 1.1\n",
    "kfn_path = '../resource/'+str(version)\n",
    "fn_path = '../resource/info/FN17_frame2id.json'\n",
    "web_path = '../../koreanframenet-web/data/kolu_'+str(version)+'/'"
   ]
  },
  {
   "cell_type": "code",
   "execution_count": 3,
   "metadata": {},
   "outputs": [],
   "source": [
    "def load_kfn():\n",
    "    with open(kfn_path+'/KFN_annotations.json','r') as f:\n",
    "        kfn = json.load(f)\n",
    "    return kfn\n",
    "kfn = load_kfn()"
   ]
  },
  {
   "cell_type": "code",
   "execution_count": 4,
   "metadata": {},
   "outputs": [],
   "source": [
    "def load_fn17():\n",
    "    with open(fn_path,'r') as f:\n",
    "        fn = json.load(f)\n",
    "    return fn\n",
    "fn = load_fn17()\n",
    "def get_fnid(frame):\n",
    "    fnid = fn[frame]\n",
    "    return fnid"
   ]
  },
  {
   "cell_type": "code",
   "execution_count": 5,
   "metadata": {},
   "outputs": [
    {
     "name": "stdout",
     "output_type": "stream",
     "text": [
      "7942 lus are saved\n"
     ]
    }
   ],
   "source": [
    "def make_key(string):\n",
    "    return string.replace('-', '').upper()\n",
    "def get_surface_form(target_span, text):\n",
    "    return text[target_span['begin']:target_span['end']]\n",
    "def get_fes(denos):\n",
    "    fes = []\n",
    "    for deno in denos:\n",
    "        if deno['role'] == 'ARGUMENT':\n",
    "            fes.append(deno['obj'])\n",
    "    return list(set(fes))\n",
    "    \n",
    "\n",
    "def gen_lus():\n",
    "    lus = {}\n",
    "    lu_items = []\n",
    "    for i in kfn:\n",
    "        d = kfn[i]\n",
    "        lu_items.append(d['lu'])\n",
    "    lu_items = list(set(lu_items))\n",
    "    lu_items.sort(key=make_key)\n",
    "    lu_index = {}\n",
    "    for i in lu_items:\n",
    "        lu_index[i] = len(lu_index)+1\n",
    "    \n",
    "    for i in kfn:\n",
    "        annotation_id = int(i)\n",
    "        d = kfn[i]\n",
    "        lu = d['lu']\n",
    "        pos = lu.split('.')[1]\n",
    "        frame = d['frame']\n",
    "        text = d['text']\n",
    "        lexeme = lu.split('.')[0]\n",
    "        for deno in d['denotations']:\n",
    "            if deno['role'] == 'TARGET':\n",
    "                target_span = deno['span']\n",
    "        surface_form = get_surface_form(target_span, text)\n",
    "        fid = get_fnid(frame)\n",
    "        new_fes = get_fes(d['denotations'])\n",
    "        \n",
    "        luid = lu_index[lu]\n",
    "        \n",
    "        if luid not in lus:\n",
    "            item = {}\n",
    "            item['lu'] = lu\n",
    "            item['pos'] = pos\n",
    "            item['lexeme'] = lexeme\n",
    "            item['frame'] = frame\n",
    "            item['fid'] = int(fid)\n",
    "            surface_forms = []\n",
    "            surface_forms.append(surface_form)\n",
    "            surface_forms = list(set(surface_forms))\n",
    "            item['surface_forms'] = surface_forms\n",
    "            annotation_ids = []\n",
    "            annotation_ids.append(annotation_id)\n",
    "            annotation_ids = list(set(annotation_ids))\n",
    "            item['annotation_ids'] = annotation_ids\n",
    "            lus[luid] = item\n",
    "        else:\n",
    "            item = lus[luid]\n",
    "            surface_forms = item['surface_forms']\n",
    "            surface_forms.append(surface_form)\n",
    "            surface_forms = list(set(surface_forms))\n",
    "            item['surface_forms'] = surface_forms\n",
    "            annotation_ids = item['annotation_ids']\n",
    "            annotation_ids.append(annotation_id)\n",
    "            annotation_ids = list(set(annotation_ids))\n",
    "            item['annotation_ids'] = annotation_ids\n",
    "            lus[luid] = item\n",
    "    with open(kfn_path+'/KFN_lus.json','w') as f:\n",
    "        json.dump(lus, f, ensure_ascii=False, indent=4)\n",
    "    print(len(lus), 'lus are saved')\n",
    "gen_lus()       "
   ]
  },
  {
   "cell_type": "code",
   "execution_count": 6,
   "metadata": {},
   "outputs": [
    {
     "name": "stdout",
     "output_type": "stream",
     "text": [
      "7942 files are writed\n"
     ]
    }
   ],
   "source": [
    "def gen_web_files():\n",
    "    with open(kfn_path+'/KFN_lus.json','r') as f:\n",
    "        lus = json.load(f)\n",
    "    n = 0\n",
    "    for luid in lus:\n",
    "        d = lus[luid]\n",
    "        fname = web_path+luid+'.json'\n",
    "\n",
    "        lu = d['lu']\n",
    "        ko_pos = d['pos']\n",
    "        frameID = d['fid']\n",
    "        frameName = d['frame']\n",
    "        lu_id = luid\n",
    "        \n",
    "        patterns = []\n",
    "        for aid in d['annotation_ids']:\n",
    "            examples = []\n",
    "            example = {}\n",
    "            example['denotations'] = kfn[str(aid)]['denotations']\n",
    "            example['relations'] = kfn[str(aid)]['relations']\n",
    "            if 'FrameNet' in kfn[str(aid)]['sent_id']:\n",
    "                example['sent_id'] =  kfn[str(aid)]['sent_id'].split('-')[-1]\n",
    "            example['lu'] = lu\n",
    "            example['text'] = kfn[str(aid)]['text']\n",
    "            examples.append(example)\n",
    "            \n",
    "            pattern = {}\n",
    "            # valence pattern\n",
    "            pattern['valenceText'] = 'id: '+kfn[str(aid)]['sent_id']\n",
    "            pattern['examples'] = examples\n",
    "            patterns.append(pattern)\n",
    "            \n",
    "        item = {}\n",
    "        # origin_lus\n",
    "        item['en_lus'] = []\n",
    "        item['ko_lu'] = lu\n",
    "        item['ko_pos'] = ko_pos\n",
    "        item['frameID'] = frameID\n",
    "        item['frameName'] = frameName\n",
    "        item['lu_id'] = lu_id\n",
    "        item['patterns'] = patterns\n",
    "        \n",
    "        with open(fname, 'w') as f:\n",
    "            json.dump(item, f, ensure_ascii=False, indent=4)\n",
    "        n += 1\n",
    "    print(n, 'files are writed')\n",
    "    \n",
    "    lu_items = []\n",
    "    for i in kfn:\n",
    "        d = kfn[i]\n",
    "        lu_items.append(d['lu'])\n",
    "    lu_items = list(set(lu_items))\n",
    "    lu_items.sort(key=make_key)\n",
    "\n",
    "    n=0\n",
    "    luindex = []\n",
    "    for i in lu_items:\n",
    "        n+=1\n",
    "        item = {}\n",
    "        item['lu'] = i\n",
    "        item['pos'] = i.split('.')[1]\n",
    "        item['id'] = n\n",
    "        luindex.append(item)\n",
    "    with open(web_path+'index.json','w') as f:\n",
    "        json.dump(luindex, f, ensure_ascii=False, indent=4)\n",
    "        \n",
    "gen_web_files()"
   ]
  }
 ],
 "metadata": {
  "kernelspec": {
   "display_name": "Python 3",
   "language": "python",
   "name": "python3"
  },
  "language_info": {
   "codemirror_mode": {
    "name": "ipython",
    "version": 3
   },
   "file_extension": ".py",
   "mimetype": "text/x-python",
   "name": "python",
   "nbconvert_exporter": "python",
   "pygments_lexer": "ipython3",
   "version": "3.6.5"
  }
 },
 "nbformat": 4,
 "nbformat_minor": 2
}
