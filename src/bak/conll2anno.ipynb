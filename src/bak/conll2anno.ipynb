{
 "cells": [
  {
   "cell_type": "code",
   "execution_count": 1,
   "metadata": {},
   "outputs": [],
   "source": [
    "import json\n",
    "from pprint import pprint\n",
    "import conll2textae"
   ]
  },
  {
   "cell_type": "code",
   "execution_count": 2,
   "metadata": {},
   "outputs": [],
   "source": [
    "def get_tsv_data():\n",
    "    fn_dir = '../data/'+str(version)+'/'\n",
    "    with open(fn_dir+'training.tsv','r') as f:\n",
    "        trn = f.readlines()\n",
    "    with open(fn_dir+'dev.tsv','r') as f:\n",
    "        dev = f.readlines()\n",
    "    with open(fn_dir+'test.tsv','r') as f:\n",
    "        tst = f.readlines()\n",
    "        \n",
    "    d = trn+dev+tst\n",
    "        \n",
    "    tokens, lus, frames, fes = [],[],[],[]\n",
    "    \n",
    "    sent = []\n",
    "    result = {}\n",
    "    for line in d:        \n",
    "        line = line.strip()\n",
    "        if line.startswith('#'):\n",
    "            if 'anno-id' in line:\n",
    "                anno_id = line.split('anno-id:')[-1]\n",
    "            else:\n",
    "                pass\n",
    "        else:\n",
    "            if line != '':\n",
    "                line_list = line.split('\\t')\n",
    "                tokens.append(line_list[1])\n",
    "                lus.append(line_list[2])\n",
    "                frames.append(line_list[3])\n",
    "                fes.append(line_list[4])\n",
    "            else:\n",
    "                sent.append(tokens)\n",
    "                sent.append(lus)\n",
    "                sent.append(frames)\n",
    "                sent.append(fes)\n",
    "                result[anno_id] = sent\n",
    "                sent = []\n",
    "                tokens, lus, frames, fes = [],[],[],[]\n",
    "    return result"
   ]
  },
  {
   "cell_type": "code",
   "execution_count": 3,
   "metadata": {},
   "outputs": [],
   "source": [
    "version = '1.1'\n",
    "fname = '../resource/'+str(version)+'/KFN_annotations.json'\n",
    "with open(fname+'.bak','r') as f:\n",
    "    annos = json.load(f)\n",
    "tsv_data = get_tsv_data()"
   ]
  },
  {
   "cell_type": "code",
   "execution_count": 4,
   "metadata": {},
   "outputs": [
    {
     "name": "stdout",
     "output_type": "stream",
     "text": [
      "25483\n",
      "25483\n"
     ]
    }
   ],
   "source": [
    "print(len(annos))\n",
    "print(len(tsv_data))"
   ]
  },
  {
   "cell_type": "code",
   "execution_count": 5,
   "metadata": {},
   "outputs": [
    {
     "name": "stdout",
     "output_type": "stream",
     "text": [
      "29\n",
      "29\n",
      "29\n",
      "29\n"
     ]
    }
   ],
   "source": [
    "print(len(tsv_data['0'][0]))\n",
    "print(len(tsv_data['0'][1]))\n",
    "print(len(tsv_data['0'][2]))\n",
    "print(len(tsv_data['0'][3]))"
   ]
  },
  {
   "cell_type": "code",
   "execution_count": 6,
   "metadata": {},
   "outputs": [
    {
     "name": "stdout",
     "output_type": "stream",
     "text": [
      "25483\n",
      "25483\n",
      "../resource/1.1/KFN_annotations.json is written\n"
     ]
    }
   ],
   "source": [
    "new_annos = {}\n",
    "for anno_id in annos:\n",
    "    anno = annos[anno_id]\n",
    "    tsv = tsv_data[anno_id]\n",
    "    new_anno = conll2textae.get_textae([tsv])[0]\n",
    "    new_anno['tokens'] = tsv[0]\n",
    "    new_anno['sent_id'] = anno['sent_id']\n",
    "    new_anno['source'] = anno['source']\n",
    "    new_annos[anno_id] = new_anno\n",
    "    \n",
    "print(len(annos))\n",
    "print(len(new_annos))\n",
    "\n",
    "\n",
    "with open(fname, 'w') as f:\n",
    "    json.dump(new_annos, f, ensure_ascii=False, indent=4)\n",
    "print(fname, 'is written')"
   ]
  }
 ],
 "metadata": {
  "kernelspec": {
   "display_name": "Python 3",
   "language": "python",
   "name": "python3"
  },
  "language_info": {
   "codemirror_mode": {
    "name": "ipython",
    "version": 3
   },
   "file_extension": ".py",
   "mimetype": "text/x-python",
   "name": "python",
   "nbconvert_exporter": "python",
   "pygments_lexer": "ipython3",
   "version": "3.6.5"
  }
 },
 "nbformat": 4,
 "nbformat_minor": 2
}
