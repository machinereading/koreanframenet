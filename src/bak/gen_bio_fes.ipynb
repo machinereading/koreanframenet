{
 "cells": [
  {
   "cell_type": "code",
   "execution_count": 1,
   "metadata": {},
   "outputs": [],
   "source": [
    "import json"
   ]
  },
  {
   "cell_type": "code",
   "execution_count": 2,
   "metadata": {},
   "outputs": [],
   "source": [
    "# fns = ['fn', 'kfn']\n",
    "# e_versions = ['1.5', '1.7']\n",
    "# k_versions = ['1.0', '1.1']"
   ]
  },
  {
   "cell_type": "code",
   "execution_count": 3,
   "metadata": {},
   "outputs": [],
   "source": [
    "# data_dir = '../resource/info/'"
   ]
  },
  {
   "cell_type": "code",
   "execution_count": 15,
   "metadata": {},
   "outputs": [],
   "source": [
    "with open('../resource/info/fn1.7_frame2idx.json','r') as f:\n",
    "    frame2idx = json.load(f)\n",
    "with open('../resource/info/fn1.7_fe2idx.json','r') as f:\n",
    "    fe2idx = json.load(f)\n",
    "with open('../resource/info/fn1.7_frargmap.json','r') as f:\n",
    "    frargmap = json.load(f)\n",
    "\n",
    "idx2frame = dict(zip(frame2idx.values(),frame2idx.keys()))\n",
    "idx2fe = dict(zip(fe2idx.values(),fe2idx.keys()))\n",
    "\n",
    "bio_fe2idx = {}\n",
    "bio_fe2idx['O'] = 0\n",
    "bio_fe2idx['X'] = 1\n",
    "\n",
    "bio_frargmap = {}\n",
    "\n",
    "n = 2\n",
    "for fe in fe2idx:\n",
    "    idx = fe2idx[fe]\n",
    "    b_fe = 'B-'+fe\n",
    "    i_fe = 'I-'+fe\n",
    "\n",
    "    new_idx = (idx+1)*2\n",
    "    bio_fe2idx[b_fe] = new_idx\n",
    "\n",
    "    if new_idx != n:\n",
    "        print('error')\n",
    "    bio_fe2idx[i_fe] = new_idx +1\n",
    "    n += 1\n",
    "    if new_idx +1 != n:\n",
    "        print('error')\n",
    "    n +=1\n",
    "#             break\n",
    "for frame_idx in frargmap:\n",
    "    candis = frargmap[frame_idx]\n",
    "    new_candis = []\n",
    "    new_candis.append(0)\n",
    "    new_candis.append(1)\n",
    "    for candi in candis:\n",
    "        new_idx = (candi+1)*2\n",
    "        b_candi = new_idx\n",
    "        i_candi = new_idx +1\n",
    "        new_candis.append(b_candi)\n",
    "        new_candis.append(i_candi)\n",
    "        \n",
    "    bio_frargmap[int(frame_idx)] = new_candis\n",
    "    \n",
    "with open('../resource/info/fn1.7_bio_fe2idx.json','w') as f:\n",
    "    json.dump(bio_fe2idx, f, ensure_ascii=False, indent=4)\n",
    "with open('../resource/info/fn1.7_bio_frargmap.json','w') as f:\n",
    "    json.dump(bio_frargmap, f, ensure_ascii=False, indent=4)"
   ]
  },
  {
   "cell_type": "code",
   "execution_count": 21,
   "metadata": {},
   "outputs": [],
   "source": [
    "# test\n",
    "def test():\n",
    "    with open('../resource/info/fn1.7_frame2idx.json','r') as f:\n",
    "        frame2idx = json.load(f)\n",
    "    with open('../resource/info/fn1.7_bio_fe2idx.json','r') as f:\n",
    "        bio_fe2idx = json.load(f)\n",
    "    with open('../resource/info/fn1.7_bio_frargmap.json','r') as f:\n",
    "        bio_frargmap = json.load(f)\n",
    "\n",
    "    idx2frame = dict(zip(frame2idx.values(),frame2idx.keys()))\n",
    "    idx2bio_fe = dict(zip(bio_fe2idx.values(),bio_fe2idx.keys()))\n",
    "    \n",
    "    for frame in frame2idx:\n",
    "    fidx = frame2idx[frame]\n",
    "    candis = bio_frargmap[str(fidx)]\n",
    "    print('###')\n",
    "    print(frame)\n",
    "    for c in candis:\n",
    "        fe = idx2bio_fe[c]\n",
    "        print(fe)\n",
    "        \n",
    "# test()"
   ]
  }
 ],
 "metadata": {
  "kernelspec": {
   "display_name": "Python 3",
   "language": "python",
   "name": "python3"
  },
  "language_info": {
   "codemirror_mode": {
    "name": "ipython",
    "version": 3
   },
   "file_extension": ".py",
   "mimetype": "text/x-python",
   "name": "python",
   "nbconvert_exporter": "python",
   "pygments_lexer": "ipython3",
   "version": "3.6.5"
  }
 },
 "nbformat": 4,
 "nbformat_minor": 2
}
