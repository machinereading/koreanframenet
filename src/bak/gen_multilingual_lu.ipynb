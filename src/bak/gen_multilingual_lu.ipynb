{
 "cells": [
  {
   "cell_type": "code",
   "execution_count": 25,
   "metadata": {},
   "outputs": [],
   "source": [
    "import json\n",
    "import copy"
   ]
  },
  {
   "cell_type": "code",
   "execution_count": 31,
   "metadata": {},
   "outputs": [],
   "source": [
    "def load_lu_dic():\n",
    "    ko_lu2idx_fname = './resource/info/kfn1.1_lu2idx.json'\n",
    "    ko_lufr_fname = './resource/info/kfn1.1_lufrmap.json'\n",
    "    \n",
    "    en_lu2idx_fname = './resource/info/fn1.7_lu2idx.json'\n",
    "    en_lufr_fname = './resource/info/fn1.7_lufrmap.json'\n",
    "    \n",
    "    with open(ko_lu2idx_fname, 'r') as f:\n",
    "        ko_lu2idx = json.load(f)\n",
    "    with open(ko_lufr_fname, 'r') as f:\n",
    "        ko_lufr = json.load(f)\n",
    "    with open(en_lu2idx_fname, 'r') as f:\n",
    "        en_lu2idx = json.load(f)\n",
    "    with open(en_lufr_fname, 'r') as f:\n",
    "        en_lufr = json.load(f)\n",
    "        \n",
    "    return en_lu2idx, en_lufr, ko_lu2idx, ko_lufr"
   ]
  },
  {
   "cell_type": "code",
   "execution_count": 39,
   "metadata": {},
   "outputs": [
    {
     "name": "stdout",
     "output_type": "stream",
     "text": [
      "15955\n",
      "15955\n"
     ]
    }
   ],
   "source": [
    "def gen_multilingual_lu_dic():\n",
    "    \n",
    "    en_lu2idx, en_lufr, ko_lu2idx, ko_lufr = load_lu_dic()\n",
    "    \n",
    "    mul_lu2idx = copy.deepcopy(en_lu2idx)\n",
    "        \n",
    "    for ko_lu in ko_lu2idx:\n",
    "        if ko_lu in mul_lu2idx:\n",
    "            pass\n",
    "        else:\n",
    "            mul_lu2idx[ko_lu] = ko_lu2idx[ko_lu] + len(en_lu2idx)\n",
    "            \n",
    "    mul_lufrmap = copy.deepcopy(en_lufr)\n",
    "    \n",
    "    for ko_lu in ko_lu2idx:\n",
    "        ko_luid = ko_lu2idx[ko_lu]\n",
    "        ko_luid_expaned = ko_lu2idx[ko_lu] + len(en_lu2idx)\n",
    "        ko_luid = str(ko_luid)\n",
    "        ko_luid_expaned = str(ko_luid_expaned)\n",
    "        \n",
    "        if ko_luid_expaned in mul_lufrmap:\n",
    "            print('error')\n",
    "        else:\n",
    "            mul_lufrmap[ko_luid_expaned] = ko_lufr[ko_luid]\n",
    "            \n",
    "    with open('././resource/info/mul_lu2idx.json','w') as f:\n",
    "        json.dump(mul_lu2idx, f, ensure_ascii=False, indent=4)\n",
    "    with open('././resource/info/mul_lufrmap.json','w') as f:\n",
    "        json.dump(mul_lufrmap, f, ensure_ascii=False, indent=4)\n",
    "        \n",
    "    print(len(mul_lu2idx))\n",
    "    print(len(mul_lufrmap))\n",
    "    \n",
    "gen_multilingual_lu_dic()"
   ]
  }
 ],
 "metadata": {
  "kernelspec": {
   "display_name": "Python 3",
   "language": "python",
   "name": "python3"
  },
  "language_info": {
   "codemirror_mode": {
    "name": "ipython",
    "version": 3
   },
   "file_extension": ".py",
   "mimetype": "text/x-python",
   "name": "python",
   "nbconvert_exporter": "python",
   "pygments_lexer": "ipython3",
   "version": "3.6.5"
  }
 },
 "nbformat": 4,
 "nbformat_minor": 2
}
