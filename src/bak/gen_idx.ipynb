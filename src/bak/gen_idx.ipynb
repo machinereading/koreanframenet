{
 "cells": [
  {
   "cell_type": "code",
   "execution_count": 1,
   "metadata": {},
   "outputs": [],
   "source": [
    "import json"
   ]
  },
  {
   "cell_type": "code",
   "execution_count": 2,
   "metadata": {},
   "outputs": [],
   "source": [
    "version = 1.1\n",
    "kfn_path = '../resource/'+str(version)+'/'\n",
    "info_path = '../resource/info/'"
   ]
  },
  {
   "cell_type": "code",
   "execution_count": 3,
   "metadata": {},
   "outputs": [],
   "source": [
    "def load_lus():\n",
    "    fname = kfn_path+'KFN_lus.json'\n",
    "    with open(fname, 'r') as f:\n",
    "        lus = json.load(f)\n",
    "    return lus\n",
    "def load_frame2idx():\n",
    "    with open(info_path+'fn1.7_frame2idx.json','r') as f:\n",
    "        frame2idx = json.load(f)\n",
    "    return frame2idx\n",
    "lus = load_lus()\n",
    "frame2idx = load_frame2idx()"
   ]
  },
  {
   "cell_type": "code",
   "execution_count": 4,
   "metadata": {},
   "outputs": [
    {
     "name": "stdout",
     "output_type": "stream",
     "text": [
      "# of lus: 5489\n",
      "5489 is indexed to ../resource/info/kfn1.1_lu2idx.json\n"
     ]
    }
   ],
   "source": [
    "def make_key(string):\n",
    "    return string.replace('-', '').upper()\n",
    "\n",
    "def gen_lu2idx():\n",
    "    lu2idx = {}\n",
    "    lu_items = []\n",
    "    \n",
    "    for luid in lus:\n",
    "        lu = lus[luid]['lexeme']+'.'+lus[luid]['pos']\n",
    "        lu_items.append(lu)\n",
    "    lu_items = list(set(lu_items))\n",
    "    lu_items.sort(key=make_key)\n",
    "    \n",
    "    for i in lu_items:\n",
    "        lu2idx[i] = len(lu2idx)\n",
    "        \n",
    "    fname = info_path+'kfn'+str(version)+'_lu2idx.json'\n",
    "    with open(fname, 'w') as f:\n",
    "        json.dump(lu2idx, f, ensure_ascii=False, indent=4)\n",
    "    print('# of lus:', len(lu_items))\n",
    "    print(len(lu2idx),'is indexed to', fname)\n",
    "gen_lu2idx()        "
   ]
  },
  {
   "cell_type": "code",
   "execution_count": 5,
   "metadata": {},
   "outputs": [
    {
     "name": "stdout",
     "output_type": "stream",
     "text": [
      "# of lus: 5489\n",
      "5489 is assigned to frame candidates into ../resource/info/kfn1.1_lufrmap.json\n"
     ]
    }
   ],
   "source": [
    "def get_frame_idxs_for_lu(lu):\n",
    "    frames = []\n",
    "    for luid in lus:\n",
    "        lu_item = lus[luid]['lexeme']+'.'+lus[luid]['pos']\n",
    "        frame = lus[luid]['frame']\n",
    "        if lu_item == lu:\n",
    "            frame_idx = int(frame2idx[frame])\n",
    "            frames.append(frame_idx)\n",
    "    return frames\n",
    "def gen_lufrmap():    \n",
    "    lu2idx_file = info_path+'kfn'+str(version)+'_lu2idx.json'\n",
    "    with open(lu2idx_file, 'r') as f:\n",
    "        lu2idx = json.load(f)\n",
    "    idx2lu = dict(zip(lu2idx.values(),lu2idx.keys()))\n",
    "    lufrmap = {}\n",
    "    for lu in lu2idx:\n",
    "        lu_idx = lu2idx[lu]\n",
    "        frame_idxs = get_frame_idxs_for_lu(lu)\n",
    "        lufrmap[lu_idx] = frame_idxs\n",
    "        \n",
    "    fname = info_path+'kfn'+str(version)+'_lufrmap.json'\n",
    "    with open(fname, 'w') as f:\n",
    "        json.dump(lufrmap, f, ensure_ascii=False, indent=4)\n",
    "    print('# of lus:', len(lu2idx))\n",
    "    print(len(lufrmap),'is assigned to frame candidates into', fname)\n",
    "gen_lufrmap()"
   ]
  }
 ],
 "metadata": {
  "kernelspec": {
   "display_name": "Python 3",
   "language": "python",
   "name": "python3"
  },
  "language_info": {
   "codemirror_mode": {
    "name": "ipython",
    "version": 3
   },
   "file_extension": ".py",
   "mimetype": "text/x-python",
   "name": "python",
   "nbconvert_exporter": "python",
   "pygments_lexer": "ipython3",
   "version": "3.6.5"
  }
 },
 "nbformat": 4,
 "nbformat_minor": 2
}
