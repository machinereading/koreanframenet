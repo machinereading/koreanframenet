{
 "cells": [
  {
   "cell_type": "code",
   "execution_count": 1,
   "metadata": {},
   "outputs": [],
   "source": [
    "import json"
   ]
  },
  {
   "cell_type": "code",
   "execution_count": 4,
   "metadata": {},
   "outputs": [],
   "source": [
    "def load_data():\n",
    "    with open('../resource/0.8/KFN_lus.json','r') as f:\n",
    "        kfn08 = json.load(f)\n",
    "    M = ['M1_data.json', 'M2_data.json', 'M3_data.json', 'M4_data.json', 'M5_data.json']\n",
    "    crowd_dir = '/disk_4/ACL_data/crowd/'\n",
    "    crowd = []\n",
    "    for fname in M:\n",
    "        with open(crowd_dir+fname, 'r') as f:\n",
    "            m = json.load(f)\n",
    "            crowd += m\n",
    "    return kfn08, crowd\n",
    "\n",
    "kfn08, crowd = load_data()"
   ]
  },
  {
   "cell_type": "code",
   "execution_count": 13,
   "metadata": {},
   "outputs": [],
   "source": [
    "def get_enlu_from_kfn08(lu):\n",
    "    enlus = []\n",
    "    for i in kfn08:\n",
    "        if lu == i['lu']:\n",
    "            enlus += i['en_lu']\n",
    "    enlus = [i.lower() for i in enlus]\n",
    "    enlus = list(set(enlus))\n",
    "    enlus.sort()\n",
    "    return enlus"
   ]
  },
  {
   "cell_type": "code",
   "execution_count": 18,
   "metadata": {},
   "outputs": [],
   "source": [
    "def get_edef_from_srl(kfn_annos, item):\n",
    "    result = []\n",
    "    for aid in item['annotation_ids']:\n",
    "        kfn_anno = kfn_annos[str(aid)]\n",
    "        sent = kfn_anno['sent_id']\n",
    "        if 'crowdsourcing' in sent:\n",
    "            sent_id = int(sent.split('-')[1])\n",
    "            \n",
    "            for c in crowd:\n",
    "                if c['sent_id'] == sent_id:\n",
    "                    result += c['edef']\n",
    "    result = [i.lower() for i in result]\n",
    "    result = list(set(result))\n",
    "    result.sort()\n",
    "    return result"
   ]
  },
  {
   "cell_type": "code",
   "execution_count": null,
   "metadata": {},
   "outputs": [],
   "source": [
    "def get_edef_from_srl(annotation_ids):\n",
    "    sent_id = sid.split()"
   ]
  },
  {
   "cell_type": "code",
   "execution_count": 19,
   "metadata": {},
   "outputs": [
    {
     "name": "stdout",
     "output_type": "stream",
     "text": [
      "['include']\n"
     ]
    }
   ],
   "source": [
    "def add_enlu_to_kfn():\n",
    "    versions = ['1.0', '1.1']\n",
    "    n = 0\n",
    "    for v in versions:\n",
    "        kfn_fname = '../resource/'+v+'/KFN_lus.json.bak'\n",
    "        with open(kfn_fname, 'r') as f:\n",
    "            kfn = json.load(f)\n",
    "        anno_fname = '../resource/'+v+'/KFN_annotations.json.bak'\n",
    "        with open(anno_fname, 'r') as f:\n",
    "            kfn_annos = json.load(f)\n",
    "            \n",
    "        for luid in kfn:\n",
    "            item = kfn[luid]\n",
    "            lu = item['lu']            \n",
    "            origin_lu = get_enlu_from_kfn08(lu)\n",
    "            edef = get_edef_from_srl(kfn_annos, item)\n",
    "            edef = origin_lu + edef\n",
    "            edef = list(set(edef))\n",
    "            edef.sort()\n",
    "            item['origin_lu'] = origin_lu\n",
    "            item['edef'] = edef\n",
    "            kfn[luid] = item            \n",
    "        kfn_fname = '../resource/'+v+'/KFN_lus.json'\n",
    "        with open(kfn_fname, 'w') as f:\n",
    "            json.dump(kfn, f, ensure_ascii=False, indent=4)\n",
    "\n",
    "            \n",
    "add_enlu_to_kfn()"
   ]
  }
 ],
 "metadata": {
  "kernelspec": {
   "display_name": "Python 3",
   "language": "python",
   "name": "python3"
  },
  "language_info": {
   "codemirror_mode": {
    "name": "ipython",
    "version": 3
   },
   "file_extension": ".py",
   "mimetype": "text/x-python",
   "name": "python",
   "nbconvert_exporter": "python",
   "pygments_lexer": "ipython3",
   "version": "3.6.5"
  }
 },
 "nbformat": 4,
 "nbformat_minor": 2
}
