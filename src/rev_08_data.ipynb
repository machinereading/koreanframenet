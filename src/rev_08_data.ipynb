{
 "cells": [
  {
   "cell_type": "code",
   "execution_count": 1,
   "metadata": {},
   "outputs": [],
   "source": [
    "import json"
   ]
  },
  {
   "cell_type": "code",
   "execution_count": 2,
   "metadata": {},
   "outputs": [],
   "source": [
    "def main(fname):\n",
    "    with open(fname+'.bak','r') as f:\n",
    "        d = f.readlines()\n",
    "\n",
    "    with open(fname, 'w') as f:\n",
    "        for i in d:\n",
    "            if i.startswith('#'):\n",
    "                line = i\n",
    "            elif i == '\\n':\n",
    "                line = i\n",
    "            else:\n",
    "                t = i.split('\\t')\n",
    "                tid = t[0]\n",
    "                token = t[1]\n",
    "                lu = t[12]\n",
    "                frame = t[13]\n",
    "                fe = t[14]\n",
    "                line = tid + '\\t' + token + '\\t' + lu + '\\t' + frame + '\\t' + fe\n",
    "            f.write(line)\n",
    "            \n",
    "    print(fname, 'is written')"
   ]
  },
  {
   "cell_type": "code",
   "execution_count": 5,
   "metadata": {},
   "outputs": [
    {
     "name": "stdout",
     "output_type": "stream",
     "text": [
      "../data/0.8/training.tsv is written\n"
     ]
    }
   ],
   "source": [
    "fname = '../data/0.8/training.tsv'\n",
    "# fname = '../data/0.8/dev.tsv'\n",
    "# fname = '../data/0.8/test.tsv'\n",
    "main(fname)"
   ]
  }
 ],
 "metadata": {
  "kernelspec": {
   "display_name": "Python 3",
   "language": "python",
   "name": "python3"
  },
  "language_info": {
   "codemirror_mode": {
    "name": "ipython",
    "version": 3
   },
   "file_extension": ".py",
   "mimetype": "text/x-python",
   "name": "python",
   "nbconvert_exporter": "python",
   "pygments_lexer": "ipython3",
   "version": "3.6.5"
  }
 },
 "nbformat": 4,
 "nbformat_minor": 2
}
